import torch
import torch.nn as nn
import torch.nn.functional as F
def padzero(x): #将头尾的zero用复制的方式填充
    first=(x.bool()*torch.arange(x.shape[0],0,-1)).argmax(keepdim=True)
    last =(x.bool()*torch.range(0,x.shape[0]-1)).argmax(keepdim=True)
    x_=F.pad(x[first:last+1],(first,0),'constant',x[first])
    x_=F.pad(x_,(0,x.shape[0]-last-1),'constant',x[last])
    return x_
padzero(torch.tensor([0,0,1,2,0,5,0,0,7,9,0]))
